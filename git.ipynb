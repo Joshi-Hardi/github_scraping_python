{
 "cells": [
  {
   "cell_type": "code",
   "execution_count": 65,
   "id": "2e6a345b",
   "metadata": {},
   "outputs": [],
   "source": [
    "#import python library\n",
    "import requests\n",
    "import pandas as pd\n",
    "\n",
    "#beautifulsoup makes content pretty\n",
    "from bs4 import BeautifulSoup\n",
    "\n",
    "  \n",
    "URL1 = \"https://github.com/topics\"\n",
    "r1 = requests.get(URL1)\n",
    "  \n",
    "soup1 = BeautifulSoup(r1.content, 'html.parser')"
   ]
  },
  {
   "cell_type": "code",
   "execution_count": 66,
   "id": "73409a72",
   "metadata": {},
   "outputs": [],
   "source": [
    "#get link all topics\n",
    "\n",
    "topic_name=soup1.find_all(\"p\",{\"class\":\"f3 lh-condensed mb-0 mt-1 Link--primary\"})\n",
    "topic_link=soup1.find_all(\"a\",{\"class\":\"no-underline flex-1 d-flex flex-column\"})\n",
    "all_topics={}\n",
    "for i in range(len(topic_name)):\n",
    "    all_topics[topic_name[i].text]=\"https://github.com\"+topic_link[i][\"href\"]"
   ]
  },
  {
   "cell_type": "code",
   "execution_count": 67,
   "id": "1ba2ec4f",
   "metadata": {},
   "outputs": [],
   "source": [
    "#get all top repository from all famous topic\n",
    "all_data=[]\n",
    "for i in all_topics:\n",
    "    topic=i\n",
    "    url = all_topics[i]\n",
    "    r2 = requests.get(url)\n",
    "    soup2 = BeautifulSoup(r2.content, 'html.parser')\n",
    "\n",
    "    pro_dis=soup2.find_all(\"p\",{\"class\":\"color-fg-muted mb-0\"})\n",
    "    pro_link=soup2.find_all(\"h3\",{\"class\":\"f3 color-fg-muted text-normal lh-condensed\"})\n",
    "    project_name=[]\n",
    "    project_description=[]\n",
    "    project_link=[]\n",
    "    for i in pro_link:\n",
    "        project=i.find_all(\"a\",{\"class\":\"Link text-bold wb-break-word\"})\n",
    "        for j in range(len(project)):\n",
    "            project_name.append(project[j].text.strip())\n",
    "            project_link.append(\"https://github.com\"+project[j]['href'])\n",
    "    for i in pro_dis:\n",
    "        project_description.append(i.text)\n",
    "    for k in range(len(project_name)):\n",
    "        all_data.append([topic,project_name[k],project_description[k],project_link[k]])   "
   ]
  },
  {
   "cell_type": "code",
   "execution_count": 64,
   "id": "8f11d505",
   "metadata": {},
   "outputs": [],
   "source": [
    "df = pd.DataFrame.from_records(all_data,columns=['Topic', 'Project_name','Project_descrition','Project_link'])\n",
    "#convert dataframe into excel file\n",
    "df.to_excel(\"D:/projects/git.xlsx\")  "
   ]
  }
 ],
 "metadata": {
  "kernelspec": {
   "display_name": "Python 3 (ipykernel)",
   "language": "python",
   "name": "python3"
  },
  "language_info": {
   "codemirror_mode": {
    "name": "ipython",
    "version": 3
   },
   "file_extension": ".py",
   "mimetype": "text/x-python",
   "name": "python",
   "nbconvert_exporter": "python",
   "pygments_lexer": "ipython3",
   "version": "3.9.12"
  }
 },
 "nbformat": 4,
 "nbformat_minor": 5
}
